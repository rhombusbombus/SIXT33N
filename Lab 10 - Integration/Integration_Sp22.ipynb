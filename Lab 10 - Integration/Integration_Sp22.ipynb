{
 "cells": [
  {
   "cell_type": "markdown",
   "metadata": {},
   "source": [
    "# Hands-on: S1XT33N Integration/Final Demo\n",
    "\n",
    "### EECS 16B: Designing Information Devices and Systems II, Spring 2022\n",
    "\n",
    "\n",
    "Written by Nathaniel Mailoa and Emily Naviasky (2016)\n",
    "\n",
    "Updated by Steven Lu and Kaitlyn Chan (2021)\n",
    "\n",
    "Updated by Steven Lu (2022)\n"
   ]
  },
  {
   "cell_type": "markdown",
   "metadata": {},
   "source": [
    "## Table of Contents\n",
    "\n",
    "* [Introduction](#intro)\n",
    "* [Integration](#part1)\n",
    "* [Final Demo](#part2)\n",
    "* [Final Lab Report](#part3)"
   ]
  },
  {
   "cell_type": "markdown",
   "metadata": {},
   "source": [
    "<a id='intro'></a>\n",
    "## Introduction\n",
    "\n",
    "Welcome to the final lab of the semester! Now you are on your last step, Integration. SIXT33N has slowly been taking shape and soon, it will be running around causing trouble. All you need to do now is put everything together in a single Launchpad program. The objective is to get SIXT33N to go straight far, turn left, go straight for a shorter distance, and turn right when it hears your corresponding command.\n",
    "\n",
    "The checkoff for this phase is the final demo of your project. Please read the Final Demo section of the notebook for more details."
   ]
  },
  {
   "cell_type": "markdown",
   "metadata": {},
   "source": [
    "## <span style=\"color:red\">Obligatory Launchpad Warning</span>\n",
    "\n",
    "### Remember to never power your Launchpad with both the USB and the 5V jumper. To be safe, always unplug your batteries to power down your breadboard before interfacing your Launchpad with the computer."
   ]
  },
  {
   "cell_type": "markdown",
   "metadata": {},
   "source": [
    "<a id='part1'></a>\n",
    "## <span style=\"color:blue\">Integration</span>"
   ]
  },
  {
   "cell_type": "markdown",
   "metadata": {},
   "source": [
    "Everything you work on in this phase will be in the sketch `integration.ino`, which is your final Energia code for SIXT33N. As we go through it, fill in sections labelled `YOUR CODE HERE` as instructed.\n"
   ]
  },
  {
   "cell_type": "markdown",
   "metadata": {},
   "source": [
    "### I/O Pins\n",
    "\n",
    "The top of the sketch contains some constant and variable definitions. If you changed a motor or encoder pin in a previous lab, make sure you change it here as well.\n",
    "\n",
    "### Wheel Control \n",
    "\n",
    "In the main body of the sketch, the code defines 2 modes: `MODE_LISTEN` and `MODE_DRIVE`. In `MODE_DRIVE`, SIXT33N will execute the command specified by the word it successfully classifies during `MODE_LISTEN`.\n",
    "\n",
    "- Make sure to change the pin definitions at the top of the file if you changed the pins for your motors or encoders in a previous lab from the default pins.\n",
    "- Copy `CODE BLOCK CON1/2/3/5` from `turning.ino`.\n",
    "- Copy over your `TURN_RADIUS` and `delta_reference` function from `turning.ino` into `CODE BLOCK CON4`.\n",
    "    - You may need to change the values inside the `run_times[4]` array to make the car turn 90 degrees. Indices 1 and 3 (the second and fourth values in the array) hold the run times for the turns. Remember that the run times are in ms!\n",
    "\n",
    "### Enveloping and PCA Vectors\n",
    "\n",
    "In `MODE_LISTEN`, the SIXT33N listens to your words and tries to classify the word. The Launchpad will repeatedly record some samples and perform the enveloping. If the Launchpad sucessfully classifies a word, then it will enter `MODE_DRIVE`.\n",
    "\n",
    "- Directly above `CODE BLOCK PCA1`, if you changed the pin for your filtered mic board signal in a previous lab, make sure you change it here in this `MIC_INPUT` pin definition as well.\n",
    "- Copy `CODE BLOCK PCA1/2` from `classify.ino`.\n",
    "\n",
    "### Classification and Driving\n",
    "\n",
    "Next, go to the section labeled **`CODE BLOCK PCA3`** in the `loop()` function, and copy the code from `classify.ino`. This block should do the PCA projection and classification. There is no longer a need to `print` over serial in this section.\n",
    "\n",
    "Then, based on the identified commands, write code that makes the SIXT33N behave as desired by setting the `drive_mode` variable and calling `start_drive_mode()` (the skeleton for these two lines is already in the file underneath the check against `EUCLIDEAN_THRESHOLD`). As a reminder, the four commands should make the SIXT33N:\n",
    "- Drive straight far\n",
    "- Turn left\n",
    "- Drive straight close\n",
    "- Turn right"
   ]
  },
  {
   "cell_type": "markdown",
   "metadata": {},
   "source": [
    "That's it! You should be set. Now upload the sketch onto your Launchpad, disconnect the USB cable, and power your Launchpad via the 5V pin. If you forgot the pins you should attach to the motors and encoders, you can find them in the define statements at the top of the Launchpad sketch. If your car doesn't have as much drive as before, you might need to change to fresh batteries - check the voltage of your battery and if it is considerably less than 9V (e.g. below ~7.8V), swap them out for fresh ones.\n",
    "\n",
    "Put your car on the floor and try saying some commands at it! Hopefully, it can classify the commands correctly and move as desired.\n",
    "\n",
    "### Notes / Tips\n",
    "- **You may find that you encounter an \"out-of-memory\" error when uploading** - this is because our Launchpads do not have a ton of memory. Try reducing your `SNIPPET_SIZE` (your length) so your vectors aren't quite as long. This may change your classification, but hopefully for the better. It's ok if you get a warning about *low* memory.\n",
    "    - If you end up changing this, you will need to run through the code for the SVD/PCA lab again with your updated values to update your vectors. You may also need to run `classify.ino` again.\n",
    "- Change the values inside the `run_times` array to ensure your SIXT33N turns the proper angle (ideally 90 degrees). Indices 1 and 3 (the second and fourth value in the array) store the run times for the turns in ms.\n",
    "- You may have to get relatively close to the mic board for it to pick up your command.\n",
    "- If you're struggling to get a particular command to classify correctly, make sure you're saying the word the same way as when you recorded it. You can try varying how you say the word slightly between runs until you find the \"sweet spot\" and can repeat it reasonably well with accurate classification.\n",
    "\n",
    "Did it work? If not, you might need to tweak your classification parameters. If it did work, time to celebrate!"
   ]
  },
  {
   "cell_type": "markdown",
   "metadata": {},
   "source": [
    "<a id='part2'></a>\n",
    "## <span style=\"color:blue\">Final Demo</span>"
   ]
  },
  {
   "cell_type": "markdown",
   "metadata": {},
   "source": [
    "### Demo\n",
    "\n",
    "You will be giving a live demonstration of your car's functionality as the checkoff for the Integration lab. In the demo, you will have to:\n",
    "- Set SIXT33N on the ground, and say the commands we tell you to one-by-one.\n",
    "- You are allowed to reposition the car in between the commands if you have trouble crashing into walls.\n",
    "- The checkoff demo cannot be pre-recorded, so please have your car ready when you submit to checkoff!\n",
    "\n",
    "**Please review this [final demo requirements document](https://drive.google.com/file/d/1x0wjdra7aexvc_v-WzWeXr4Twz-DVtyA/view?usp=sharing). It clearly specifies the exact requirements we expect your car to demonstrate. Make sure your car satisfies all the requirements before submitting a checkoff request for the Integration lab. Please also read the Integration/Final Demo Piazza post for important details.**\n",
    "\n",
    "### Video Submission (Optional)\n",
    "\n",
    "If you would like to video tape your live demo, feel free to upload it to your Google Drive and share it with us! You will get **1 extra credit global course point** and may even be spotlighted by the EECS Department :D\n",
    "- Start by introducing your group, and explain the words/commands you will use. It's helpful for you to say what the words you are about to say are supposed to do.\n",
    "- Submit the link to the video to Gradescope. Make sure to enable view permissions using the link for all Berkeley accounts!\n",
    "- **See the Integration/Final Demo Piazza post for more details about video structure and submission guidelines.**\n",
    "\n",
    "Congratulations - you're done! If you have some time, be creative and try to add a functionality to the SIXT33N car! **Don't forget about our TI Design Contest, where you can get extra credit global course points and prizes from TI!** Please see Piazza for more contest details. Also, don't hesitate to ask for your GSI's help if you want to modify the Launchpad sketch since it is a bit more complicated than previous sketches.\n"
   ]
  },
  {
   "cell_type": "markdown",
   "metadata": {},
   "source": [
    "<a id='part3'></a>\n",
    "## <span style=\"color:blue\">Final Lab Report</span>"
   ]
  },
  {
   "cell_type": "markdown",
   "metadata": {},
   "source": [
    "**In addition to the final demo, you will also need to submit a final lab report (linked on Piazza and course website).** With your lab group members, briefly summarize each 16B lab, elaborate on your design choices, and answer all the questions specified in the document.\n",
    "\n",
    "**Submit the report as a PDF to Gradescope by Monday, May 2 at 11:59 PM. Please read all the instructions clearly in the report document and read the Final Lab Report Piazza post for very important lab report details.**\n"
   ]
  },
  {
   "cell_type": "code",
   "execution_count": null,
   "metadata": {
    "collapsed": true
   },
   "outputs": [],
   "source": []
  }
 ],
 "metadata": {
  "anaconda-cloud": {},
  "kernelspec": {
   "display_name": "Python 3",
   "language": "python",
   "name": "python3"
  },
  "language_info": {
   "codemirror_mode": {
    "name": "ipython",
    "version": 3
   },
   "file_extension": ".py",
   "mimetype": "text/x-python",
   "name": "python",
   "nbconvert_exporter": "python",
   "pygments_lexer": "ipython3",
   "version": "3.7.4"
  }
 },
 "nbformat": 4,
 "nbformat_minor": 1
}
