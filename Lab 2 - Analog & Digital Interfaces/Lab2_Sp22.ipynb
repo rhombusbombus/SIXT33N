{
 "cells": [
  {
   "cell_type": "markdown",
   "metadata": {},
   "source": [
    "# Lab 2: Analog and Digital Circuit Interfaces\n",
    "\n",
    "### EECS 16B: Designing Information Devices and Systems II, Spring 2022\n",
    "\n",
    "Updated by Megan Zeng, Yi-Hsuan Shih, Steven Lu (2022)\n",
    "\n",
    "zengmegan@berkeley.edu, yihsuan@berkeley.edu, stevenl@berkeley.edu\n",
    "\n",
    "Updated by Yi-Hsuan Shih (2021)\n",
    "\n",
    "yihsuan@berkeley.edu\n",
    "\n",
    "Updated by Hossein Najafi (2021)\n",
    "\n",
    "Updated by Mia Mirkovic (2020)\n",
    "\n",
    "miamirkovic@berkeley.edu\n",
    "\n",
    "Updated by Rafael Calleja, Steven Lu (2020)\n",
    "\n",
    "-----"
   ]
  },
  {
   "cell_type": "markdown",
   "metadata": {},
   "source": [
    "<a id='part0'></a>\n",
    "# <span style=\"color:navy\">Part 0: Introduction</span>\n",
    "-----"
   ]
  },
  {
   "cell_type": "markdown",
   "metadata": {},
   "source": [
    "Digital-to-Analog Converters (DACs) and Analog-to-Digital Converters (ADCs) are some of the most commonly used circuits today. They can be found in a wide variety of electronics, such as microcontrollers like the MSP430 Launchpad we use in class, computers, phones, thermostats, etc. This is because our computers and chips process information from the real world that must be stored digitally, while the information that we gather is itself an analog value. DACs and ADCs play a very important role in the electronics we use everyday, and in this lab, we will be exploring how to build our own simple DAC and ADC. Additionally, we will be doing equipment training to become familiar with the equipment we will be using throughout this semester, distributing lab kits, and assembling the S1XT33N car for students in hands-on labs.\n",
    "\n",
    "## Materials:\n",
    "- [Lab note](https://drive.google.com/file/d/1J9cTMG_5zWBcnXXn9jOwXknXd0fwcimn/view?usp=sharing)\n",
    "\n",
    "- [Debugging guide](https://drive.google.com/file/d/1vDHFBkp0fljjbVocPHC06VmMty2lqHTo/view?usp=sharing)\n",
    "\n",
    "Review the lab note and debugging guide. The lab note provides a technical review of the concepts covered in lab as well as theoretical connections. **You should read the lab notes before your lab section.** They serve as a review and will be helpful as a reference during section. The debugging guide is not a fully comprehensive list of all the things you can do, but it provides useful tips and guidelines for debugging your circuit and quick checklists for your lab equipment setup."
   ]
  },
  {
   "cell_type": "markdown",
   "metadata": {},
   "source": [
    "## Pre-Lab\n",
    "\n",
    "### Complete the pre-lab assignment before attempting to do the lab. For all students, submit your answers to the Gradescope assignment \"Pre-Lab 2: Analog and Digital Interfaces.\" Pre-Lab 2 is due on Sunday, January 30 at 11:59pm. No late submissions will be accepted.\n"
   ]
  },
  {
   "cell_type": "markdown",
   "metadata": {},
   "source": [
    "## <span style=\"color:#ba190f\"> DO NOT include units when submitting your answers on Gradescope! ONLY include the numerical value rounded to the number of decimal places specified in each question, in units specified in the question. DO NOT include letters, words, etc. If a question involves entering an answer that is not a numerical value, the format of the answer will be clearly specified in that question."
   ]
  },
  {
   "cell_type": "markdown",
   "metadata": {},
   "source": [
    "## Table of Contents\n",
    "\n",
    "* [Part 1: Digital to Analog Converters (DACs)](#part1)\n",
    "* [Part 2: Analog to Digital Converters (ADCs)](#part2)\n",
    "* [Part 3: Equipment Training and Review](#part3)\n",
    "* [Part 4: S1XT33N&#8482; Car Assembly Instructions](#part4)\n",
    "* [Part 5: Checkoff](#part5)\n"
   ]
  },
  {
   "cell_type": "markdown",
   "metadata": {},
   "source": [
    "<a id='part1'></a>\n",
    "# <span style=\"color:navy\">Part 1: Digital to Analog Converters (DACs)</span>\n",
    "-----"
   ]
  },
  {
   "cell_type": "markdown",
   "metadata": {},
   "source": [
    "### 1.0. Please read Part 1 of the [lab note](https://drive.google.com/file/d/1J9cTMG_5zWBcnXXn9jOwXknXd0fwcimn/view?usp=sharing).\n"
   ]
  },
  {
   "cell_type": "markdown",
   "metadata": {},
   "source": [
    "<img style=\"width: 400px\" src=\"imgs/lab2_r_2r.png\">"
   ]
  },
  {
   "cell_type": "markdown",
   "metadata": {},
   "source": [
    "## Questions\n",
    "\n",
    "For the questions below, we assume we have an $n = 3$ bit DAC. (Hint: Superposition)\n",
    "\n",
    "\n",
    "\n",
    "**<span style=\"color:#075a04\">1. Assuming [$V_2, V_1, V_0$] = [5,5,5] (all in volts), what is $V_{out}$ (in V)? Enter a numerical value with three decimal places (e.g. 3.142).</span>**\n"
   ]
  },
  {
   "cell_type": "markdown",
   "metadata": {},
   "source": [
    "< YOUR ANSWER ON GRADESCOPE >\n",
    "\n",
    "4.375"
   ]
  },
  {
   "cell_type": "markdown",
   "metadata": {},
   "source": [
    "**<span style=\"color:#075a04\">2. Assuming [$V_2, V_1, V_0$] = [0,5,0] (all in volts), what is $V_{out}$ (in V)? Remember $V_0$ is LSB and $V_2$ is MSB. Enter a numerical value with three decimal places (e.g. 3.142).</span>**"
   ]
  },
  {
   "cell_type": "markdown",
   "metadata": {},
   "source": [
    "< YOUR ANSWER ON GRADESCOPE >\n",
    "\n",
    "1.250"
   ]
  },
  {
   "cell_type": "markdown",
   "metadata": {},
   "source": [
    "(No need to check off the following 3 questions on Gradescope, but very useful exercises nonetheless)\n",
    "\n",
    "\n",
    "**<span style=\"color:#ba190f\">Please do not spend too long on these questions. Just make sure you understand how  the DAC works.</span>**"
   ]
  },
  {
   "cell_type": "markdown",
   "metadata": {},
   "source": [
    "**<span style=\"color:#075a04\"> Think about what the voltage $V_{out}$ would be if [$V_2, V_1, V_0$] = [0,0,0] (volts)?</span>**\n"
   ]
  },
  {
   "cell_type": "markdown",
   "metadata": {},
   "source": [
    "< YOUR ANSWER HERE > \n",
    "\n",
    "0"
   ]
  },
  {
   "cell_type": "markdown",
   "metadata": {},
   "source": [
    "**<span style=\"color:#075a04\"> Assuming [$V_2, V_1, V_0$] = [5,0,0] (volts), what is $V_{out}$?</span>**\n"
   ]
  },
  {
   "cell_type": "markdown",
   "metadata": {},
   "source": [
    "< YOUR ANSWER HERE > \n",
    "\n",
    "2.5"
   ]
  },
  {
   "cell_type": "markdown",
   "metadata": {},
   "source": [
    "**<span style=\"color:#075a04\"> Assuming [$V_2, V_1, V_0$] = [0,0,5] (volts), what is $V_{out}$?</span>**\n"
   ]
  },
  {
   "cell_type": "markdown",
   "metadata": {},
   "source": [
    "< YOUR ANSWER HERE > \n",
    "\n",
    "0.625"
   ]
  },
  {
   "cell_type": "markdown",
   "metadata": {},
   "source": [
    "## Tinkercad\n",
    "---"
   ]
  },
  {
   "cell_type": "markdown",
   "metadata": {},
   "source": [
    "Now that we have an idea of what the outputs of an **R-2R Ladder** are, we will build it in Tinkercad!\n",
    "\n",
    "Open the starter circuit, which can be found at: [Lab 2: DAC/ADC Starter Circuit](https://www.tinkercad.com/things/aQLH6Ie8W9q).\n",
    "\n",
    "### (Virtual) Materials\n",
    "\n",
    "- Breadboard\n",
    "- DC power supply\n",
    "- 1 $k\\Omega$ Resistors\n",
    "- 2 $k\\Omega$ Resistors\n",
    "- Arduino (similar to your MSP430 Launchpad)\n",
    "- Multimeter"
   ]
  },
  {
   "cell_type": "markdown",
   "metadata": {},
   "source": [
    "### 1.1. Build the 3-bit DAC\n",
    "\n",
    "Use the diagram below to build a 3-bit DAC using the $1 k\\Omega$ and $2 k\\Omega$ resistors. Use the jumper wires to connect the Arduino to the circuit. For example, `8` below tells you to connect that node on the breadboard to pin `8` on the Arduino. In this circuit, the Arduino will act as a signal generator.\n",
    "\n",
    "<img style=\"width: 400px\" src=\"imgs/lab2_r_2r_pins_tinkercad.png\">"
   ]
  },
  {
   "cell_type": "markdown",
   "metadata": {},
   "source": [
    "### 1.2. Run the 3-bit DAC\n",
    "\n",
    "- Open the file `dac_data_tinkercad.ino` in any text editor and skim the code.\n",
    "    - **What do you expect the output of the DAC to be?** This understanding is **vital** to the debugging process: _if you don't know what you're looking for, how can you know if your result is correct or not?_\n",
    "- Copy everything from `dac_data_tinkercad.ino` to the `Code` section in Tinkercad. \n",
    "    - Make sure to change the `Code` type from `Block` to `Text`.\n",
    "    - The code outputs an increasing and decreasing binary number in pins `8`, `12`, `13`, where pin `13` is the least significant bit (LSB).\n",
    "- Connect pin `A0` to $V_{OUT}$.\n",
    "- **<span style=\"color:red\">Make sure to connect the ground of your Arduino with the ground of your circuit!</span>**\n",
    "- **Hit `Start Simulation`.**\n",
    "- Open the serial plotter by clicking on `Code > Serial Monitor > Toggle graph`. Does the output look like what you expect?\n",
    "\n"
   ]
  },
  {
   "cell_type": "markdown",
   "metadata": {},
   "source": [
    "**<span style=\"color:#075a04\">3. How many distinct levels do you observe in the serial outputs being printed (0V counts as a level)? Alternatively, you can also look at the graph mode view in the serial monitor. (Hint: increase the DELAY variable in the code (i.e. to 2000ms) to help with observation and easy monitoring of the values.) Please enter an integer (e.g. 6). </span>**"
   ]
  },
  {
   "cell_type": "markdown",
   "metadata": {},
   "source": [
    "< YOUR ANSWER ON GRADESCOPE >\n",
    "\n",
    "8"
   ]
  },
  {
   "cell_type": "markdown",
   "metadata": {},
   "source": [
    "**<span style=\"color:#075a04\">4. In DACs, it is very important that the output has a consistent step/increment. What is the height of the first step (going from code '000' to '001') as observed in the serial monitor (in V)? (Hint: adjust the DELAY variable in the code (i.e. to 2000ms) to help with observation and easy monitoring of the values.) Enter a numerical value with three decimal places (e.g. 3.142). </span>**"
   ]
  },
  {
   "cell_type": "markdown",
   "metadata": {},
   "source": [
    "< YOUR ANSWER ON GRADESCOPE >\n",
    "\n",
    "0.598"
   ]
  },
  {
   "cell_type": "markdown",
   "metadata": {},
   "source": [
    "**<span style=\"color:#075a04\">5. The first step you just calculated in Q4 is the exact same scenario having [V2, V1, V0] = [0, 0, 5] (all in volts) in a 3-bit DAC. Is the value obtained in Q4 the same as the value obtained when [V2, V1, V0] = [0, 0, 5]? If not, which of the following explanations could be the reason for the discrepancy? Select all that apply (on Gradescope).</span>**"
   ]
  },
  {
   "cell_type": "markdown",
   "metadata": {},
   "source": [
    "< YOUR ANSWER ON GRADESCOPE >"
   ]
  },
  {
   "cell_type": "markdown",
   "metadata": {},
   "source": [
    "### 1.3. Build and run the 4-bit DAC\n",
    "- **Modify both your circuit and the Arduino code** to extend the 3-bit DAC to 4 bits. \n",
    "    - **You should use pin `7` for the new most significant bit (MSB). Keep using pin A0 for the output of the DAC**.\n",
    "    - All you have to do to the code is change `BITS` to 4.\n",
    "    - Add one R-2R stage on the side of $V_{out}$ of your 3-bit DAC circuit.\n",
    "- Repeat the steps in 2.2 for the 4-bit DAC."
   ]
  },
  {
   "cell_type": "markdown",
   "metadata": {},
   "source": [
    "**<span style=\"color:#075a04\">6. How many distinct levels do you observe in the serial outputs being printed (0V counts as a level)? Alternatively, you can also look at the graph mode view in the serial monitor. (Hint: adjust the DELAY variable in the code (i.e. to 2000ms) to help with observation and easy monitoring of the values.) Please enter an integer (e.g. 6).</span>**"
   ]
  },
  {
   "cell_type": "markdown",
   "metadata": {},
   "source": [
    "< YOUR ANSWER ON GRADESCOPE >\n",
    "\n",
    "16"
   ]
  },
  {
   "cell_type": "markdown",
   "metadata": {},
   "source": [
    "**<span style=\"color:#075a04\">7. What is the height of the first step (going from code '0000' to '0001') as observed in the serial monitor (in V)? (Hint: adjust the DELAY variable in the code (i.e. to 2000ms) to help with observation and easy monitoring of the values.) Enter a numerical value with three decimal places (e.g. 3.142).</span>**"
   ]
  },
  {
   "cell_type": "markdown",
   "metadata": {},
   "source": [
    "< YOUR ANSWER ON GRADESCOPE >\n",
    "\n",
    "0.300"
   ]
  },
  {
   "cell_type": "markdown",
   "metadata": {},
   "source": [
    "**<span style=\"color:#075a04\">8. What is the height of the second step (going from code '0001' to '0010') as observed in the serial monitor (in V)? (Hint: adjust the DELAY variable in the code (i.e. to 2000ms) to help with observation and easy monitoring of the values.) Enter a numerical value with three decimal places (e.g. 3.142).</span>**"
   ]
  },
  {
   "cell_type": "markdown",
   "metadata": {},
   "source": [
    "< YOUR ANSWER ON GRADESCOPE >\n",
    "\n",
    "0.634"
   ]
  },
  {
   "cell_type": "markdown",
   "metadata": {},
   "source": [
    "<a id='part2'></a>\n",
    "# <span style=\"color:navy\">Part 2: Analog to Digital Converters (ADCs)</span>\n",
    "-----"
   ]
  },
  {
   "cell_type": "markdown",
   "metadata": {},
   "source": [
    "### 2.0. Please read Part 2 of the [lab note](https://drive.google.com/file/d/1J9cTMG_5zWBcnXXn9jOwXknXd0fwcimn/view?usp=sharing)."
   ]
  },
  {
   "cell_type": "markdown",
   "metadata": {},
   "source": [
    "## Tinkercad\n",
    "---"
   ]
  },
  {
   "cell_type": "markdown",
   "metadata": {},
   "source": [
    "### (Virtual) Materials\n",
    "- 4-bit DAC\n",
    "- Op-amp\n",
    "- Potentiometer"
   ]
  },
  {
   "cell_type": "markdown",
   "metadata": {},
   "source": [
    "### 2.1. Build the ADC (Tinkercad)\n",
    "\n",
    "While we've already written the code for the ADC, you'll still need to make some changes to your circuit. Specifically, **you will need to build the analog input** and the part that compares the output of the DAC to the analog input and feeds the result of the comparison back to pin `A1` on the Arduino (Hint: it's the comparator).  The TinkerCad Arduino uses 5V pin logic (HIGH: 5V, Low: GND) for its input `A1` and output `7`, `8`, `12` and `13`. _What should your $V_{DD}$ be for this circuit?_\n",
    "\n",
    "\n",
    "1. In TinkerCad, build the analog input circuit shown below using the potentiometer.\n",
    "    - When you turn the knob (with your mouse) on the potentiometer, the voltage at the node labeled \"analog input\" should change. Probe that node with a multimeter and watch the voltage change as you turn the knob.\n",
    "    - On the Tinkercad potentiometer, connect \"Terminal 1\" to VDD, \"Terminal 2\" to GND, and \"Wiper\" will be \"analog input\". Drag the black rectange clockwisely to adjust the resistance ratio only after hitting `Start Simulation`.\n",
    "    \n",
    "<img style=\"width: 200px\" src=\"imgs/analog_input_circuit.png\">\n",
    "<img style=\"width: 200px\" src=\"imgs/potentiometer.png\">\n",
    "\n",
    "\n",
    "\n",
    "**You've already built the 4-bit DAC, so just build the rest of the ADC around that.**\n",
    "\n",
    "2. Use the diagram shown below to turn your 4-bit DAC into a 4-bit ADC using the op-amp.\n",
    "    - The pinout of TinkerCad's LM741 op-amp is given as reference. Ignore NC and Offset Null.\n",
    "\n",
    "<img style=\"width: 400px\" src=\"imgs/lab2_adc_tinkercad.png\">\n",
    "<img style=\"width: 400px\" src=\"imgs/LM741_pinout_updated.png\">"
   ]
  },
  {
   "cell_type": "markdown",
   "metadata": {},
   "source": [
    "### 2.2. Run the ADC (Tinkercad)\n",
    "\n",
    "- Open the file `sar_adc_data_tinkercad.ino` and skim the code. It reads from pin `A1` and outputs the approximated result in pins `7`, `8`, `12`, `13` with pin `13` as the LSB.\n",
    "- Copy and paste the entire file into the Tinkercad code window. Again, make sure you're on Text, not Block.\n",
    "- Use the potentiometer to control the input voltage (which ranges from 0V to your potentiometer's VDD). The potentiometer wiper can only be adjusted during the simulation. \n",
    "- Probe the input voltage with the multimeter and record it below.\n",
    "- Check the binary output! To check the output, open the Serial Monitor (bottom of the coding window).\n",
    "    - Try turning the potentiometer with your mouse and see what changes!\n",
    "- Does the output make sense given your input voltage? How does the output change when the input increases/decreases?\n"
   ]
  },
  {
   "cell_type": "markdown",
   "metadata": {},
   "source": [
    "**<span style=\"color:#075a04\">9. Set the input voltage to a value between 3.13V and 3.44V using the potentiometer. What is the binary output of the ADC? (i.e. enter it as \"XXXX\" without the quotations where X is either 0 or 1) </span>**"
   ]
  },
  {
   "cell_type": "markdown",
   "metadata": {},
   "source": [
    "< YOUR ANSWER ON GRADESCOPE >\n",
    "\n",
    "1010"
   ]
  },
  {
   "cell_type": "markdown",
   "metadata": {},
   "source": [
    "**<span style=\"color:#075a04\">10. Set the input voltage to a value between 1.57V and 1.86V using the potentiometer. What is the binary output of the ADC? (i.e. enter it as \"XXXX\" without the quotations where X is either 0 or 1) </span>**"
   ]
  },
  {
   "cell_type": "markdown",
   "metadata": {},
   "source": [
    "< YOUR ANSWER ON GRADESCOPE >\n",
    "\n",
    "0101"
   ]
  },
  {
   "cell_type": "markdown",
   "metadata": {},
   "source": [
    "### 2.3. Diving deeper into SAR ADC\n",
    "\n",
    "- Use the potentiometer to control the analog input voltage and set it to a value between 1.88V and 2V.\n",
    "- Probe the input voltage with the multimeter and make sure it is correct.\n",
    "- Instantiate an oscilloscope and probe the inverting input pin of the op-amp, which is also the output of the DAC. Use \"5ms\" time division for the oscilloscope. (Click on the oscilloscope and enter the time division)\n",
    "- What do you see?\n",
    "  - **<span style=\"color:#ba190f\">The graph should show something like the oscilloscope figure below. Think about why the signal steps up and down when it does, and why it converges to this specific voltage (~1.88V).</span>**\n",
    "- In the oscilloscope figure below, the phases of the DAC output signal are annotated. The large voltage jump from 0 to **1/2 Vref (2.5V)** positioned in the middle of the oscilloscope screen marks the beginning of the ADC conversion, which corresponds to the MSB being set. Phase (A) is when the comparator compares the input to the DAC output, with the latest bit being set to 1 (H). During the following phase, phase (B), the latest bit gets set to the correct value, either 0 (L) or 1 (H), depending on the comparator's output. \n",
    "- **<span style=\"color:#ba190f\">Note: In this lab, the waveforms are different from those in Homework 2. That is because in the homework, we switch the current bit to the correct code (0 or 1, based on the output of the comparator) at the same time as we switch the next bit to the trial code (1). But in the lab, we switch the current bit to the correct code first and then switch the trial code after 1/2 a cycle.</span>**\n",
    "- Try turning the potentiometer to change the analog input voltage. What happens when the input increases? \n",
    "- Experiment with different input values, especially the two extreme cases of 0V and 5V, and observe the DAC output waveforms.\n",
    "- Open the `Serial Monitor`, where you will see the final output code printed there.\n",
    "\n",
    "\n",
    "\n",
    "<center>\n",
    "<img style=\"width:400px\" src=\"imgs/scope_sar.jpg\"/>\n",
    "</center>\n",
    "\n",
    "- Now, change the `mode` in the code (line 21) to `1`, and use \"500ms\" time division for the oscilloscope. Start the simulation and open the `Serial Plotter` by clicking the right bottom `Toggle graph` in the `Serial Monitor`. You should be able to see the following waveforms. This is essentially the same waveform as the one you see in the oscilloscope but with the y-axis normalized to $V_{REF}$. It also plots the output of comparator in each conversion cycle. The ideal value of each $V_{DAC}$ level (this is calculated by $V_{DAC}=\\sum_{n=0}^3\\frac{D_n}{2^{n+1}}V_{REF}$, where $D_n$ is the nth bit) and the output of the comparator can be found in the serial monitor (repeat 20 times each cycle.) Both $V_{DAC}$ and the output of the comparator are set to 0 in the initial state in this plot. \n",
    "<center>\n",
    "<img style=\"width:600px\" src=\"imgs/SAR_operation.png\"/>\n",
    "</center>\n"
   ]
  },
  {
   "cell_type": "markdown",
   "metadata": {},
   "source": [
    "## Questions"
   ]
  },
  {
   "cell_type": "markdown",
   "metadata": {},
   "source": [
    "**<span style=\"color:#075a04\">11. Set the input voltage to a value between 4.07V and 4.37V using the potentiometer. Change the `mode` in the code (line 21) to `0`, and use \"5ms\" time division for the oscilloscope. Represent the waveform with two levels during the conversion: \"L\" (short for LOW) when the waveform has a downward jump, and \"H\" (short for HIGH) otherwise. Include the levels for all phases, A and B, i.e. \"HLHHHHHL\" is how the waveform from the figure above is represented, to be entered without the quotations. </span>**"
   ]
  },
  {
   "cell_type": "markdown",
   "metadata": {},
   "source": [
    "< YOUR ANSWER ON GRADESCOPE >\n",
    "\n",
    "HHHHHLHH"
   ]
  },
  {
   "cell_type": "markdown",
   "metadata": {},
   "source": [
    "**<span style=\"color:#075a04\">12. If we want to build a 4-bit ADC with a sampling frequency of 1.5kHz (read the input voltage 1500 times per second), what is the minimum clock frequency the ADC has to run at assuming it takes one clock cycle to set each bit in the ADC's register (in kHz)? Enter a numerical value with three decimal places (e.g. 3.142) in kHz.</span>**\n",
    "\n"
   ]
  },
  {
   "cell_type": "markdown",
   "metadata": {},
   "source": [
    "< YOUR ANSWER ON GRADESCOPE >\n",
    "\n",
    "0.375"
   ]
  },
  {
   "cell_type": "markdown",
   "metadata": {},
   "source": [
    "**Settling time** marks the time that passes between the applied input value and the final output value of the component (within some error bound). \n",
    "\n",
    "In this lab, we directly connect our analog voltage from the potentiometer to our comparator. However, in reality, we sample the time-variant input voltage with a track-and-hold circuit (see SAR ADC circuit diagram in lab note). There would be sampling time/acquisition time for the track-and-hold circuit to have a stable sampled voltage for the ADC to convert. Here, we can assume that the input signal looks practically constant to the algorithm since the operation frequency of the SAR ADC is much higher than the frequency of the input signal. Therefore, the acquisition time is negligible.\n",
    "\n",
    "Let's say we want to build a SAR ADC using this resistor-ladder DAC and some microprocessor (i.e. the Arduino).\n",
    "\n",
    "We will assume for this question that there is no delay between the output of one component and the input of the next (e.g. there is no delay between the output of the DAC changing and the inverting input of the comparator changing).\n",
    "\n",
    "- Assume the settling time of the DAC is 150ns.\n",
    "\n",
    "- Assume the settling time of the comparator is 200ns.\n",
    "\n",
    "- Assume that it takes 100ns for the microprocessor to look at the comparator output and set the bit off or keep it on. Now, the algorithm repeats for the next bit.\n",
    "\n",
    "**<span style=\"color:#075a04\">13-1. What is the worst-case time required to determine the final value of any single bit in the ADC's register (in ns)? Enter a numerical value with three decimal places (e.g. 3.142) in ns.</span>**"
   ]
  },
  {
   "cell_type": "markdown",
   "metadata": {},
   "source": [
    "< YOUR ANSWER ON GRADESCOPE >\n",
    "\n",
    "450.000"
   ]
  },
  {
   "cell_type": "markdown",
   "metadata": {},
   "source": [
    "**<span style=\"color:#075a04\">13-2. How long would it take in the worst case to see the correct 4-bit ADC output (in ns)? Enter a numerical value with three decimal places (e.g. 3.142) in ns.</span>**"
   ]
  },
  {
   "cell_type": "markdown",
   "metadata": {},
   "source": [
    "< YOUR ANSWER ON GRADESCOPE >"
   ]
  },
  {
   "cell_type": "markdown",
   "metadata": {},
   "source": [
    "**<span style=\"color:#075a04\">14. In reality, there are multiple factors, e.g. area, noise, sensitivity of the comparator, that set the limit of the highest resolution (number of bits) we can build. If the smallest Least Significant Bit (LSB, the step size of the DAC voltage in the voltage transfer curve in lab note) we can have is 1.5 mV, what is the highest resolution (number of bits) we can achieve in the binary SAR ADC with 5V reference voltage? (Note that the step size is constant across codes in the ideal ADC. The answer should be an integer for which the LSB satisfies the constraint.) Enter an integer (e.g. 6).</span>** "
   ]
  },
  {
   "cell_type": "markdown",
   "metadata": {},
   "source": [
    "< YOUR ANSWER ON GRADESCOPE >"
   ]
  },
  {
   "cell_type": "markdown",
   "metadata": {},
   "source": [
    "#### <span style=\"color:#075a04\"> 15. Please upload two screenshots of your final Tinkercad circuits, including both the circuit and schematic views. See the Getting Started with Tinkercad Guide for instructions on how to display the schematic view."
   ]
  },
  {
   "cell_type": "markdown",
   "metadata": {},
   "source": [
    "<a id='part3'></a>\n",
    "# <span style=\"color:navy\">Part 3: Equipment Training and Review</span>\n",
    "-----\n",
    "\n",
    "## Materials:\n",
    "- [Lab equipment video tutorials](https://www.youtube.com/playlist?list=PLQ1OVCqw6RUMX2JzPw2G15s5mZovuav8-)\n",
    "\n",
    "- Oscilloscope cable\n",
    "\n",
    "- Function generator cable\n",
    "\n",
    "- Power supply cables\n",
    "\n",
    "- Multimeter cables\n",
    "\n",
    "- Breadboard\n",
    "\n",
    "- 2 $1k\\Omega$ resistors\n",
    "\n",
    "- Wires\n",
    "\n",
    "- (Headphones)"
   ]
  },
  {
   "cell_type": "markdown",
   "metadata": {},
   "source": [
    "### 3.1. Function / Waveform Generator and Oscilloscope\n",
    "\n",
    "- Watch the [function generator](https://www.youtube.com/watch?v=GJRssGzgoXI&list=PLQ1OVCqw6RUMX2JzPw2G15s5mZovuav8-&index=3) and [oscilloscope](https://www.youtube.com/watch?v=Cw9QGrS6JZM&list=PLQ1OVCqw6RUMX2JzPw2G15s5mZovuav8-&index=1) video tutorials.\n",
    "\n",
    "- On the function generator, set the output load to **High-Z**, then generate a **sine** wave with a frequency of **10 kHz**, amplitude of **5 Vpp**, offset of **0 V**, and phase of $0^{\\circ}$. \n",
    "\n",
    "- Connect the **red** lead of the function generator cable (**black cable**) to any row on the breadboard and the **black** lead to the negative rail. Turn on the waveform output.\n",
    "\n",
    "- Set up the oscilloscope, then probe the function generator output by connecting the **gray probe** to the same row as the **red** lead of the function generator cable. Make sure to ground your oscilloscope probe's **black** lead (connect it to the same negative rail as the **black** lead of the function generater cable). \n",
    "\n",
    "- Adjust the resolution until you can only see **roughly 4 periods** of the sinusoid. It should also be centered and take up around **4 vertical divisions** on the screen without getting cut off. Make sure to **trigger** the sinusoid so that it's stable and doesn't jitter around on the screen!\n",
    "\n",
    "- On the oscilloscope, add measurements for **frequency**, **max**, **min**, and **peak to peak voltage**. Do these measurements and the waveform itself reflect the parameters set for the function generator?"
   ]
  },
  {
   "cell_type": "markdown",
   "metadata": {},
   "source": [
    "### 3.2. Power Supply and Digital Multimeter (DMM)\n",
    "\n",
    "- Watch the [power supply](https://www.youtube.com/watch?v=diDnF54Hgb8&list=PLQ1OVCqw6RUMX2JzPw2G15s5mZovuav8-&index=2) and [digital multimeter (DMM)](https://www.youtube.com/watch?v=fcABEUQyXrQ&list=PLQ1OVCqw6RUMX2JzPw2G15s5mZovuav8-&index=4) video tutorials.\n",
    "\n",
    "- On the power supply, set the voltage and current limits to **3.3 V** and **100 mA** respectively.\n",
    "\n",
    "- Connect the ground lead of the power supply to the same ground as the function generator and the positive lead to the positive rail.\n",
    "\n",
    "- Construct the following voltage divider circuit, then turn on the power supply:\n",
    "<img style=\"width: 300px\" src=\"imgs/divider.PNG\">\n",
    "\n",
    "- Set up the multimeter to measure DC voltages, then measure the voltage at $V_{out}$ with respect to ground. Is the value around what you'd expect?"
   ]
  },
  {
   "cell_type": "markdown",
   "metadata": {},
   "source": [
    "### <span style=\"color:green\">Show both of your setups to lab staff.</span>\n",
    "\n",
    "### <span style=\"color:red\">You must also answer lab equipment questions and submit the Gradescope assignment. See the Checkoff section below for more details!</span>\n",
    "\n",
    "### <span style='color:green'>Now you're done with equipment training!</span>\n",
    "\n",
    "You can reference these [videos](https://www.youtube.com/playlist?list=PLQ1OVCqw6RUMX2JzPw2G15s5mZovuav8-) anytime you're unsure how to use a particular function of any of the lab equipment."
   ]
  },
  {
   "cell_type": "markdown",
   "metadata": {},
   "source": [
    "<a id='part4'></a>\n",
    "# <span style=\"color:navy\">Part 4: S1XT33N&#8482; Car Assembly Instructions</span>\n",
    "-----"
   ]
  },
  {
   "cell_type": "markdown",
   "metadata": {},
   "source": [
    "## Car Assembly\n",
    "\n",
    "### <span style=\"color:red\">Assemble your car before Lab 3 (Motion and Speed Sensing). You must upload a picture of your assembled car to Gradescope. See the Checkoff section below for more details!</span>\n",
    "\n",
    "[Assembly Instructions](https://drive.google.com/file/d/13Mokqk5kPcWg4J2nQpU-MfoXxFHDuTuW/view?usp=sharing)\n",
    "\n",
    "[Assembly Video Guide](https://youtu.be/P16ziUDR3GQ)\n",
    "    \n",
    "### **DO NOT try to remove the wheels once you attach them to the axles.** \n",
    "### NOTE: The video says to scrape the inside of the wheels if you're having trouble attaching them. Be careful not to scrape away too much, or the wheels may become too loose and not stay on the axle."
   ]
  },
  {
   "cell_type": "markdown",
   "metadata": {},
   "source": [
    "<a id='part5'></a>\n",
    "# <span style=\"color:#ba190f\">CHECKOFF</span>\n",
    "-----\n",
    "### For all students, submit your answers to Questions 1-14 to the Gradescope assignment \"Lab 2: Analog and Digital Interfaces.\" Submit your screenshots for Question 15 to the Gradescope assignment \"Lab 2: Tinkercad Circuits.\" Lab 2 is due on Sunday, February 6 at 11:59pm. No late submissions will be accepted.\n",
    "\n",
    "### For hands-on students, you also need to the submit the Gradescope assignment \"[Hands-on] Lab 2: Equipment Training and S1XT33N Car.\" You will answer lab equipment questions and upload a picture of your assembled S1XT33N car. This assignment is also due on Sunday, February 6 at 11:59pm.\n",
    "\n",
    "\n",
    "### Save this notebook somewhere you can access! \n",
    "\n",
    "We recommend making a shared Google Drive with your lab partner, since GitHub can be annoying with Jupyter notebooks. It's good to familiarize yourself with the user interface of Tinkercad and understand the basic functions of these circuits that you have built and analyzed.\n",
    "\n",
    "\n",
    "### Great job finishing 16B Lab 2!"
   ]
  },
  {
   "cell_type": "code",
   "execution_count": null,
   "metadata": {},
   "outputs": [],
   "source": []
  }
 ],
 "metadata": {
  "anaconda-cloud": {},
  "kernelspec": {
   "display_name": "Python 3 (ipykernel)",
   "language": "python",
   "name": "python3"
  },
  "language_info": {
   "codemirror_mode": {
    "name": "ipython",
    "version": 3
   },
   "file_extension": ".py",
   "mimetype": "text/x-python",
   "name": "python",
   "nbconvert_exporter": "python",
   "pygments_lexer": "ipython3",
   "version": "3.9.9"
  }
 },
 "nbformat": 4,
 "nbformat_minor": 1
}
